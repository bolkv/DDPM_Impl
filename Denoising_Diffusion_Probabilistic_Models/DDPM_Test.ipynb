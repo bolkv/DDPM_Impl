{
 "cells": [
  {
   "cell_type": "code",
   "execution_count": null,
   "metadata": {},
   "outputs": [],
   "source": [
    "import torch\n",
    "import torch.nn as nn\n",
    "import math\n",
    "import numpy as np\n",
    "from tqdm import tqdm\n",
    "from keras.datasets.mnist import load_data\n",
    "import matplotlib as plt\n",
    "from unet import UNet\n",
    "from diffusion_model import DiffusionModel\n"
   ]
  },
  {
   "cell_type": "code",
   "execution_count": 13,
   "metadata": {},
   "outputs": [],
   "source": [
    "(trainX, trainy), (testX, testy) = load_data()\n",
    "trainX = np.float32(trainX) / 255.\n",
    "testX = np.float32(testX) / 255.\n",
    "\n",
    "def sample_batch(batch_size, device):\n",
    "    indices = torch.randperm(trainX.shape[0])[:batch_size]\n",
    "    data = torch.from_numpy(trainX[indices]).unsqueeze(1).to(device)\n",
    "    return torch.nn.functional.interpolate(data, 32)"
   ]
  },
  {
   "cell_type": "code",
   "execution_count": 14,
   "metadata": {},
   "outputs": [
    {
     "data": {
      "text/plain": [
       "torch.Size([10, 1, 32, 32])"
      ]
     },
     "execution_count": 14,
     "metadata": {},
     "output_type": "execute_result"
    }
   ],
   "source": [
    "t = (torch.rand(10)*10).long()\n",
    "img = torch.randn((10,1,32,32))\n",
    "model = UNet()\n",
    "img = model(img, t)\n",
    "img.shape"
   ]
  },
  {
   "cell_type": "code",
   "execution_count": null,
   "metadata": {},
   "outputs": [],
   "source": [
    "device = 'mps'\n",
    "batch_size = 64\n",
    "model = UNet().to(device)\n",
    "optimizer = torch.optim.Adam(model.parameters(), lr=2e-5)\n",
    "diffusion_model = DiffusionModel(1000,model, device)\n",
    "\n"
   ]
  },
  {
   "cell_type": "code",
   "execution_count": null,
   "metadata": {},
   "outputs": [],
   "source": [
    "training_loss = []\n",
    "for epoch in tqdm((range(4000))):\n",
    "    loss = diffusion_model.training_step(batch_size, optimizer)\n",
    "    training_loss.append(loss)\n",
    "\n",
    "    if epoch % 100 ==0:\n",
    "        plt.plot(training_loss)\n",
    "        plt.savefig('training_loss.png')\n",
    "        plt.close()\n",
    "\n",
    "        plt.plot(training_loss[-1000:])\n",
    "        plt.savefig(\"training_loss_cropped.png\")\n",
    "        plt.close()\n",
    "    if epoch % 1000 == 0:\n",
    "        nb_images = 81\n",
    "        samples = diffusion_model.sampling(n_samples=nb_images,use_tqdm=True)\n",
    "        plt.figure(figsize=(17,17))\n",
    "        for i in range(nb_images):\n",
    "            plt.subplot(9,9,1+i)\n",
    "            plt.axis('off')\n",
    "            plt.imshow(samples[i].squeeze(0).clip(0,1).data.cpu().numpy(), cmap='gray')\n",
    "\n",
    "        plt.show()\n",
    "        plt.savefig(f\"sample_epoch_{epoch}.png\")\n",
    "        plt.close()\n",
    "torch.save(model.cpu(), f'model_paper2_epoch_{epoch}')\n",
    "model.to(device)\n"
   ]
  },
  {
   "cell_type": "code",
   "execution_count": null,
   "metadata": {},
   "outputs": [],
   "source": [
    "(trainX, trainy), (testX, testy) = load_data()\n",
    "trainX = np.float32(trainX) / 255.\n",
    "testX = np.float32(testX) / 255.\n",
    "\n",
    "def sample_batch(batch_size, device):\n",
    "    indices = torch.randperm(trainX.shape[0])[:batch_size]\n",
    "    data = torch.from_numpy(trainX[indices]).unsqueeze(1).to(device)\n",
    "    return torch.nn.functional.interpolate(data, 32)\n",
    "    #interpolate -> need least 2 batch size"
   ]
  },
  {
   "cell_type": "code",
   "execution_count": null,
   "metadata": {},
   "outputs": [],
   "source": [
    "device = 'cuda'\n",
    "batch_size = 64\n",
    "#model = UNet().to(device)\n",
    "model = torch.load(\"model_paper2_epoch_3999\").to(device)\n",
    "optimizer = torch.optim.Adam(model.parameters(), lr=2e-5)\n",
    "diffusion_model = DiffusionModel(1000,model, device)"
   ]
  },
  {
   "cell_type": "code",
   "execution_count": null,
   "metadata": {},
   "outputs": [],
   "source": [
    "def forward(diffusion_model, T, x0):\n",
    "    #Add Noise\n",
    "    x_forward = [x0]\n",
    "    x = x0\n",
    "    for t in range(T):\n",
    "        std = torch.sqrt(diffusion_model.beta[t])\n",
    "        x = x + torch.randn_like(x) * std\n",
    "        x_forward.append(x)\n",
    "\n",
    "    return x_forward\n",
    "'''\n",
    "def forward(x0, T, device):\n",
    "  #Add Noise\n",
    "  x0 = torch.tensor(x0)\n",
    "  mu = torch.sqrt(diffusion_model.alpha_bar[T]) * x0\n",
    "  std = torch.sqrt(1-diffusion_model.alpha_bar[T])\n",
    "  epsilon = torch.randn_like(x0)\n",
    "  xt = mu + std * epsilon\n",
    "\n",
    "  return xt\n",
    "\n",
    "'''\n"
   ]
  },
  {
   "cell_type": "code",
   "execution_count": null,
   "metadata": {},
   "outputs": [],
   "source": [
    "xT = forward(x0,500, device)\n",
    "plt.imshow(xT[0].squeeze(0).clip(0,1).data.cpu().numpy(), cmap='gray')"
   ]
  },
  {
   "cell_type": "code",
   "execution_count": null,
   "metadata": {},
   "outputs": [],
   "source": [
    "@torch.no_grad()\n",
    "def inpainting(diffusion_model, x0, T, device, mask):\n",
    "\n",
    "  diffusion_model = diffusion_model.to(device)\n",
    "  x0 = torch.tensor(x0, device=device)\n",
    "  mu = torch.sqrt(diffusion_model.alpha_bar[T]) * x0\n",
    "  std = torch.sqrt(1-diffusion_model.alpha_bar[T])\n",
    "  epsilon = torch.randn_like(x0, device = device)\n",
    "  xT = mu + std * epsilon\n",
    "  x = xT\n",
    "\n",
    "  mask = mask.bool()\n",
    "  inpainting_sample = [x]\n",
    "\n",
    "  for t in tqdm(range(T, 0, -1)):\n",
    "      if(t == 0):\n",
    "          z = torch.zeros_like(x, device = device)\n",
    "      else:\n",
    "          z = torch.randn_like(x, device = device)\n",
    "\n",
    "      t_tensor = torch.ones(x0.shape[0]) * t\n",
    "      t_tensor = t_tensor.to(device)\n",
    "\n",
    "      alpha_t = diffusion_model.alpha[t-1].unsqueeze(-1).unsqueeze(-1).unsqueeze(-1).to(device)\n",
    "      alpha_bar_t = diffusion_model.alpha_bar[t-1].unsqueeze(-1).unsqueeze(-1).unsqueeze(-1).to(device)\n",
    "      beta_t = diffusion_model.beta[t-1].unsqueeze(-1).unsqueeze(-1).unsqueeze(-1).to(device)\n",
    "      eps_theta = diffusion_model.function_approximator(x,t_tensor-1)\n",
    "\n",
    "      mean = 1 / torch.sqrt(alpha_t) * (x - ((1 - alpha_t) / torch.sqrt(\n",
    "          1 - alpha_bar_t)) * eps_theta)\n",
    "      sigma = torch.sqrt(beta_t)\n",
    "      x = x0\n",
    "      x[mask] =  (mean + sigma * z)[mask]\n",
    "      inpainting_sample.append(x)\n",
    "  return inpainting_sample"
   ]
  },
  {
   "cell_type": "code",
   "execution_count": null,
   "metadata": {},
   "outputs": [],
   "source": [
    "batch_size = 2\n",
    "x0 = sample_batch(batch_size, device)\n",
    "plt.imshow(x0[0].squeeze(0).clip(0,1).data.cpu().numpy(), cmap='gray')"
   ]
  },
  {
   "cell_type": "code",
   "execution_count": null,
   "metadata": {},
   "outputs": [],
   "source": [
    "mask = torch.zeros_like(x0)\n",
    "mask[:,:,:,:16] = 1\n",
    "x0_mask = x0 * (1 - mask)\n",
    "plt.imshow(x0_mask[0].squeeze(0).clip(0,1).data.cpu().numpy(), cmap='gray')"
   ]
  },
  {
   "cell_type": "code",
   "execution_count": null,
   "metadata": {},
   "outputs": [],
   "source": [
    "x = inpainting(diffusion_model, x0=x0, T=500, device=device, mask=mask)\n",
    "T = 499\n",
    "xT = x[T]\n",
    "plt.imshow(xT[0].squeeze(0).clip(0,1).data.cpu().numpy(), cmap='gray')"
   ]
  },
  {
   "cell_type": "code",
   "execution_count": null,
   "metadata": {},
   "outputs": [],
   "source": []
  }
 ],
 "metadata": {
  "kernelspec": {
   "display_name": "Python 3",
   "language": "python",
   "name": "python3"
  },
  "language_info": {
   "codemirror_mode": {
    "name": "ipython",
    "version": 3
   },
   "file_extension": ".py",
   "mimetype": "text/x-python",
   "name": "python",
   "nbconvert_exporter": "python",
   "pygments_lexer": "ipython3",
   "version": "3.12.4"
  }
 },
 "nbformat": 4,
 "nbformat_minor": 2
}
