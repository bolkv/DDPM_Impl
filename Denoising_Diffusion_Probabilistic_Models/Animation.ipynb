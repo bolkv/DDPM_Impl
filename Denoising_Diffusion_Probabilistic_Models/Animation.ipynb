{
 "cells": [
  {
   "cell_type": "code",
   "execution_count": null,
   "metadata": {},
   "outputs": [],
   "source": [
    "import torch\n",
    "import torch.nn as nn\n",
    "import math\n",
    "import numpy as np\n",
    "from tqdm import tqdm\n",
    "from keras.datasets.mnist import load_data\n",
    "import matplotlib as plt\n",
    "from unet import UNet\n",
    "from diffusion_model import DiffusionModel\n",
    "\n",
    "import imageio\n"
   ]
  },
  {
   "cell_type": "code",
   "execution_count": null,
   "metadata": {},
   "outputs": [],
   "source": [
    "(trainX, trainy), (testX, testy) = load_data()\n",
    "trainX = np.float32(trainX) / 255.\n",
    "testX = np.float32(testX) / 255.\n",
    "\n",
    "def sample_batch(batch_size, device):\n",
    "    indices = torch.randperm(trainX.shape[0])[:batch_size]\n",
    "    data = torch.from_numpy(trainX[indices]).unsqueeze(1).to(device)\n",
    "    return torch.nn.functional.interpolate(data, 32)"
   ]
  },
  {
   "cell_type": "code",
   "execution_count": null,
   "metadata": {},
   "outputs": [],
   "source": [
    "device = 'cuda'\n",
    "batch_size = 64\n",
    "#model = UNet().to(device)\n",
    "model = torch.load(\"model_paper2_epoch_3999\").to(device)\n",
    "optimizer = torch.optim.Adam(model.parameters(), lr=2e-5)\n",
    "diffusion_model = DiffusionModel(1000,model, device)"
   ]
  },
  {
   "cell_type": "code",
   "execution_count": null,
   "metadata": {},
   "outputs": [],
   "source": [
    "@torch.no_grad()\n",
    "def sampling(self, n_samples=1, image_channel=1, image_size=(32, 32), use_tqdm=True):\n",
    "        \n",
    "    xT = torch.randn((n_samples, image_channel, image_size[0], image_size[1]), device=self.device)\n",
    "    x = xT\n",
    "\n",
    "    all_x = [x]\n",
    "    progress_bar = tqdm if use_tqdm else lambda x : x\n",
    "    for t in progress_bar(range(self.T, 0, -1)):\n",
    "        if(t == 0):\n",
    "            z = torch.zeros_like(x, device = self.device)\n",
    "        else:\n",
    "            z = torch.randn_like(x, device = self.device)\n",
    "\n",
    "        t = torch.ones(n_samples, dtype=torch.long, device=self.device) * t\n",
    "                \n",
    "        alpha_t = self.alpha[t-1].unsqueeze(-1).unsqueeze(-1).unsqueeze(-1)\n",
    "        alpha_bar_t = self.alpha_bar[t-1].unsqueeze(-1).unsqueeze(-1).unsqueeze(-1)\n",
    "        beta_t = self.beta[t-1].unsqueeze(-1).unsqueeze(-1).unsqueeze(-1)\n",
    "        eps_theta = self.function_approximator(x,t-1)\n",
    "            \n",
    "        mean = 1 / torch.sqrt(alpha_t) * (x - ((1 - alpha_t) / torch.sqrt(\n",
    "          1 - alpha_bar_t)) * eps_theta)\n",
    "        sigma = torch.sqrt(beta_t)\n",
    "        \n",
    "        x =  mean + sigma * z\n",
    "        all_x.append(x)\n",
    "\n",
    "    return all_x"
   ]
  },
  {
   "cell_type": "code",
   "execution_count": null,
   "metadata": {},
   "outputs": [],
   "source": [
    "imgs = sampling(diffusion_model, n_samples=10)"
   ]
  },
  {
   "cell_type": "code",
   "execution_count": null,
   "metadata": {},
   "outputs": [],
   "source": [
    "idx = 0\n",
    "T = -1\n",
    "plt.imshow(imgs[T][idx].clip(0,1).cpu().numpy().squeeze(0), cmpa='gray')"
   ]
  },
  {
   "cell_type": "code",
   "execution_count": null,
   "metadata": {},
   "outputs": [],
   "source": [
    "imgs_np = [e[idx].squeeze(0).cpu().numpy().clip(0,1) for e in imgs]\n",
    "imageio.mimsave(\"movie.mp4\", imgs_np)"
   ]
  }
 ],
 "metadata": {
  "kernelspec": {
   "display_name": "Python 3",
   "language": "python",
   "name": "python3"
  },
  "language_info": {
   "codemirror_mode": {
    "name": "ipython",
    "version": 3
   },
   "file_extension": ".py",
   "mimetype": "text/x-python",
   "name": "python",
   "nbconvert_exporter": "python",
   "pygments_lexer": "ipython3",
   "version": "3.12.4"
  }
 },
 "nbformat": 4,
 "nbformat_minor": 2
}
