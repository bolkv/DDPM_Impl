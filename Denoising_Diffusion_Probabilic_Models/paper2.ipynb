{
 "cells": [
  {
   "cell_type": "code",
   "execution_count": null,
   "metadata": {},
   "outputs": [],
   "source": [
    "import torch\n",
    "import torch.nn as nn\n",
    "import math\n",
    "import numpy as np\n",
    "from tqdm import tqdm\n",
    "from keras.datasets.mnist import load_data\n",
    "import matplotlib as plt\n",
    "from unet import UNet\n"
   ]
  },
  {
   "cell_type": "code",
   "execution_count": 13,
   "metadata": {},
   "outputs": [],
   "source": [
    "(trainX, trainy), (testX, testy) = load_data()\n",
    "trainX = np.float32(trainX) / 255.\n",
    "testX = np.float32(testX) / 255.\n",
    "\n",
    "def sample_batch(batch_size, device):\n",
    "    indices = torch.randperm(trainX.shape[0])[:batch_size]\n",
    "    data = torch.from_numpy(trainX[indices]).unsqueeze(1).to(device)\n",
    "    return torch.nn.functional.interpolate(data, 32)"
   ]
  },
  {
   "cell_type": "code",
   "execution_count": 14,
   "metadata": {},
   "outputs": [
    {
     "data": {
      "text/plain": [
       "torch.Size([10, 1, 32, 32])"
      ]
     },
     "execution_count": 14,
     "metadata": {},
     "output_type": "execute_result"
    }
   ],
   "source": [
    "t = (torch.rand(10)*10).long()\n",
    "img = torch.randn((10,1,32,32))\n",
    "model = UNet()\n",
    "img = model(img, t)\n",
    "img.shape"
   ]
  },
  {
   "cell_type": "code",
   "execution_count": 23,
   "metadata": {},
   "outputs": [],
   "source": [
    "class DiffusionModel(nn.Module):\n",
    "\n",
    "    def __init__(self, T, model, device):\n",
    "        super().__init__()\n",
    "        self.T = T\n",
    "        self.function_approximator = model.to(device)\n",
    "        self.device = device\n",
    "\n",
    "        self.beta = torch.linspace(1e-4, 0.02, T).to(device)\n",
    "        self.alpha = (1 - self.beta)\n",
    "        self.alpha_bar = torch.cumprod(self.alpha, dim = 0)\n",
    "\n",
    "    def training_step(self, batch_size, optimizer):\n",
    "        '''\n",
    "        Algorithm 1 in Denoising Diffusion Probability Models\n",
    "        '''\n",
    "        x0 = sample_batch(batch_size, self.device)\n",
    "\n",
    "        t = torch.randint(1, self.T + 1, (batch_size, ), device = self.device, dtype = torch.long)\n",
    "        eps = torch.rand_like(x0, device=self.device)\n",
    "\n",
    "        #Take one gradient descent step\n",
    "        alpha_bar_t = self.alpha_bar[t-1].unsqueeze(-1).unsqueeze(-1).unsqueeze(-1)\n",
    "        eps_predicted = self.function_approximator(torch.sqrt(alpha_bar_t)*x0 + \n",
    "                                                   torch.sqrt(1-alpha_bar_t)*eps,t-1)\n",
    "        loss = nn.functional.mse_loss(eps, eps_predicted)\n",
    "        optimizer.zero_grad()\n",
    "        loss.backward()\n",
    "        optimizer.step()\n",
    "\n",
    "        return loss.item()\n",
    "\n",
    "    @torch.no_grad()\n",
    "    def sampling(self, n_samples=1, image_channel=1, image_size=(32, 32), use_tqdm=True):\n",
    "        \n",
    "        xT = torch.randn((n_samples, image_channel, image_size[0], image_size[1]), device=self.device)\n",
    "        samples = [xT]\n",
    "        x = xT\n",
    "        progress_bar = tqdm if use_tqdm else lambda x : x\n",
    "        for t in progress_bar(range(self.T, 0, -1)):\n",
    "            if(t == 0):\n",
    "                z = torch.zeros_like(x, device = self.device)\n",
    "            else:\n",
    "                z = torch.rand_like(x, device = self.device)\n",
    "\n",
    "            t = torch.ones(n_samples, dtype=torch.long, device=self.device) * t\n",
    "                \n",
    "            alpha_t = self.alpha[t-1].unsqueeze(-1).unsqueeze(-1).unsqueeze(-1)\n",
    "            alpha_bar_t = self.alpha_bar[t-1].unsqueeze(-1).unsqueeze(-1).unsqueeze(-1)\n",
    "            beta_t = self.beta[t-1].unsqueeze(-1).unsqueeze(-1).unsqueeze(-1)\n",
    "            eps_theta = self.function_approximator(x,t-1)\n",
    "            \n",
    "            mean = (1/(torch.sqrt(alpha_bar_t))) * (x - ((1-alpha_t) * eps_theta)/(torch.sqrt(1-alpha_bar_t)))\n",
    "            sigma = torch.sqrt(beta_t)\n",
    "            x =  mean + sigma * z\n",
    "            samples.append(x)\n",
    "\n",
    "        return samples\n",
    "\n"
   ]
  },
  {
   "cell_type": "code",
   "execution_count": 24,
   "metadata": {},
   "outputs": [],
   "source": [
    "device = 'mps'\n",
    "batch_size = 64\n",
    "model = UNet().to(device)\n",
    "optimizer = torch.optim.Adam(model.parameters(), lr=2e-5)\n",
    "diffusion_model = DiffusionModel(1000,model, device)\n",
    "\n"
   ]
  },
  {
   "cell_type": "code",
   "execution_count": null,
   "metadata": {},
   "outputs": [],
   "source": [
    "training_loss = []\n",
    "for epoch in tqdm((range(4000))):\n",
    "    loss = diffusion_model.training_step(batch_size, optimizer)\n",
    "    training_loss.append(loss)\n",
    "\n",
    "    if epoch % 100 ==0:\n",
    "        print(f\"Epoch{epoch}: Loss - {loss}\")\n",
    "        plt.plot(training_loss)\n",
    "        plt.savefig('training_loss.png')\n",
    "        plt.close()\n",
    "\n",
    "        plt.plot(training_loss[-1000:])\n",
    "        plt.savefig(\"training_loss_cropped.png\")\n",
    "        plt.close()\n",
    "\n",
    "    if epoch % 500:\n",
    "        nb_images = 0\n",
    "        samples = diffusion_model.sampling(n_samples=nb_images,use_tqdm=True)\n",
    "        plt.figure(figsize=(17,17))\n",
    "        for i in range(nb_images):\n",
    "            plt.subplot(9,9,1+i)\n",
    "            plt.axis('off')\n",
    "            plt.imshow(samples[i].squeeze(0).clip(0,1).data.cpu().numpy(), cmap='gray')\n",
    "\n",
    "        plt.savefig(f\"sample_epoch_{epoch}.png\")\n",
    "        plt.close()\n"
   ]
  },
  {
   "cell_type": "code",
   "execution_count": null,
   "metadata": {},
   "outputs": [],
   "source": [
    "nb_images = 81\n",
    "diffusion_model.sampling(n_samples=nb_images,use_tqdm=True)"
   ]
  }
 ],
 "metadata": {
  "kernelspec": {
   "display_name": "Python 3",
   "language": "python",
   "name": "python3"
  },
  "language_info": {
   "codemirror_mode": {
    "name": "ipython",
    "version": 3
   },
   "file_extension": ".py",
   "mimetype": "text/x-python",
   "name": "python",
   "nbconvert_exporter": "python",
   "pygments_lexer": "ipython3",
   "version": "3.9.6"
  }
 },
 "nbformat": 4,
 "nbformat_minor": 2
}
